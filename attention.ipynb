{
  "nbformat": 4,
  "nbformat_minor": 0,
  "metadata": {
    "colab": {
      "name": "Untitled2.ipynb",
      "provenance": [],
      "collapsed_sections": [],
      "authorship_tag": "ABX9TyOCu0a/vxAsjyFspflpKFRx",
      "include_colab_link": true
    },
    "kernelspec": {
      "name": "python3",
      "display_name": "Python 3"
    },
    "accelerator": "TPU"
  },
  "cells": [
    {
      "cell_type": "markdown",
      "metadata": {
        "id": "view-in-github",
        "colab_type": "text"
      },
      "source": [
        "<a href=\"https://colab.research.google.com/github/xiaoya27/TensorFlow-Techniques-Notes/blob/main/attention.ipynb\" target=\"_parent\"><img src=\"https://colab.research.google.com/assets/colab-badge.svg\" alt=\"Open In Colab\"/></a>"
      ]
    },
    {
      "cell_type": "code",
      "metadata": {
        "colab": {
          "base_uri": "https://localhost:8080/",
          "height": 1000
        },
        "id": "C9b1r4ptnhdC",
        "outputId": "864b99eb-7b93-4ef4-90ce-e244a3ff8483"
      },
      "source": [
        "!pip install tensorflow==2.3.0"
      ],
      "execution_count": 4,
      "outputs": [
        {
          "output_type": "stream",
          "text": [
            "Collecting tensorflow==2.3.0\n",
            "\u001b[?25l  Downloading https://files.pythonhosted.org/packages/97/ae/0b08f53498417914f2274cc3b5576d2b83179b0cbb209457d0fde0152174/tensorflow-2.3.0-cp36-cp36m-manylinux2010_x86_64.whl (320.4MB)\n",
            "\u001b[K     |████████████████████████████████| 320.4MB 47kB/s \n",
            "\u001b[?25hRequirement already satisfied: protobuf>=3.9.2 in /usr/local/lib/python3.6/dist-packages (from tensorflow==2.3.0) (3.12.4)\n",
            "Requirement already satisfied: google-pasta>=0.1.8 in /usr/local/lib/python3.6/dist-packages (from tensorflow==2.3.0) (0.2.0)\n",
            "Requirement already satisfied: astunparse==1.6.3 in /usr/local/lib/python3.6/dist-packages (from tensorflow==2.3.0) (1.6.3)\n",
            "Collecting tensorflow-estimator<2.4.0,>=2.3.0\n",
            "\u001b[?25l  Downloading https://files.pythonhosted.org/packages/e9/ed/5853ec0ae380cba4588eab1524e18ece1583b65f7ae0e97321f5ff9dfd60/tensorflow_estimator-2.3.0-py2.py3-none-any.whl (459kB)\n",
            "\u001b[K     |████████████████████████████████| 460kB 43.4MB/s \n",
            "\u001b[?25hRequirement already satisfied: opt-einsum>=2.3.2 in /usr/local/lib/python3.6/dist-packages (from tensorflow==2.3.0) (3.3.0)\n",
            "Requirement already satisfied: grpcio>=1.8.6 in /usr/local/lib/python3.6/dist-packages (from tensorflow==2.3.0) (1.32.0)\n",
            "Collecting numpy<1.19.0,>=1.16.0\n",
            "\u001b[?25l  Downloading https://files.pythonhosted.org/packages/b3/a9/b1bc4c935ed063766bce7d3e8c7b20bd52e515ff1c732b02caacf7918e5a/numpy-1.18.5-cp36-cp36m-manylinux1_x86_64.whl (20.1MB)\n",
            "\u001b[K     |████████████████████████████████| 20.1MB 1.3MB/s \n",
            "\u001b[?25hRequirement already satisfied: scipy==1.4.1 in /usr/local/lib/python3.6/dist-packages (from tensorflow==2.3.0) (1.4.1)\n",
            "Requirement already satisfied: tensorboard<3,>=2.3.0 in /usr/local/lib/python3.6/dist-packages (from tensorflow==2.3.0) (2.4.0)\n",
            "Requirement already satisfied: six>=1.12.0 in /usr/local/lib/python3.6/dist-packages (from tensorflow==2.3.0) (1.15.0)\n",
            "Requirement already satisfied: wrapt>=1.11.1 in /usr/local/lib/python3.6/dist-packages (from tensorflow==2.3.0) (1.12.1)\n",
            "Requirement already satisfied: termcolor>=1.1.0 in /usr/local/lib/python3.6/dist-packages (from tensorflow==2.3.0) (1.1.0)\n",
            "Requirement already satisfied: keras-preprocessing<1.2,>=1.1.1 in /usr/local/lib/python3.6/dist-packages (from tensorflow==2.3.0) (1.1.2)\n",
            "Requirement already satisfied: wheel>=0.26 in /usr/local/lib/python3.6/dist-packages (from tensorflow==2.3.0) (0.36.2)\n",
            "Requirement already satisfied: gast==0.3.3 in /usr/local/lib/python3.6/dist-packages (from tensorflow==2.3.0) (0.3.3)\n",
            "Requirement already satisfied: h5py<2.11.0,>=2.10.0 in /usr/local/lib/python3.6/dist-packages (from tensorflow==2.3.0) (2.10.0)\n",
            "Requirement already satisfied: absl-py>=0.7.0 in /usr/local/lib/python3.6/dist-packages (from tensorflow==2.3.0) (0.10.0)\n",
            "Requirement already satisfied: setuptools in /usr/local/lib/python3.6/dist-packages (from protobuf>=3.9.2->tensorflow==2.3.0) (51.0.0)\n",
            "Requirement already satisfied: tensorboard-plugin-wit>=1.6.0 in /usr/local/lib/python3.6/dist-packages (from tensorboard<3,>=2.3.0->tensorflow==2.3.0) (1.7.0)\n",
            "Requirement already satisfied: google-auth-oauthlib<0.5,>=0.4.1 in /usr/local/lib/python3.6/dist-packages (from tensorboard<3,>=2.3.0->tensorflow==2.3.0) (0.4.2)\n",
            "Requirement already satisfied: requests<3,>=2.21.0 in /usr/local/lib/python3.6/dist-packages (from tensorboard<3,>=2.3.0->tensorflow==2.3.0) (2.23.0)\n",
            "Requirement already satisfied: google-auth<2,>=1.6.3 in /usr/local/lib/python3.6/dist-packages (from tensorboard<3,>=2.3.0->tensorflow==2.3.0) (1.17.2)\n",
            "Requirement already satisfied: markdown>=2.6.8 in /usr/local/lib/python3.6/dist-packages (from tensorboard<3,>=2.3.0->tensorflow==2.3.0) (3.3.3)\n",
            "Requirement already satisfied: werkzeug>=0.11.15 in /usr/local/lib/python3.6/dist-packages (from tensorboard<3,>=2.3.0->tensorflow==2.3.0) (1.0.1)\n",
            "Requirement already satisfied: requests-oauthlib>=0.7.0 in /usr/local/lib/python3.6/dist-packages (from google-auth-oauthlib<0.5,>=0.4.1->tensorboard<3,>=2.3.0->tensorflow==2.3.0) (1.3.0)\n",
            "Requirement already satisfied: chardet<4,>=3.0.2 in /usr/local/lib/python3.6/dist-packages (from requests<3,>=2.21.0->tensorboard<3,>=2.3.0->tensorflow==2.3.0) (3.0.4)\n",
            "Requirement already satisfied: urllib3!=1.25.0,!=1.25.1,<1.26,>=1.21.1 in /usr/local/lib/python3.6/dist-packages (from requests<3,>=2.21.0->tensorboard<3,>=2.3.0->tensorflow==2.3.0) (1.24.3)\n",
            "Requirement already satisfied: idna<3,>=2.5 in /usr/local/lib/python3.6/dist-packages (from requests<3,>=2.21.0->tensorboard<3,>=2.3.0->tensorflow==2.3.0) (2.10)\n",
            "Requirement already satisfied: certifi>=2017.4.17 in /usr/local/lib/python3.6/dist-packages (from requests<3,>=2.21.0->tensorboard<3,>=2.3.0->tensorflow==2.3.0) (2020.12.5)\n",
            "Requirement already satisfied: cachetools<5.0,>=2.0.0 in /usr/local/lib/python3.6/dist-packages (from google-auth<2,>=1.6.3->tensorboard<3,>=2.3.0->tensorflow==2.3.0) (4.2.0)\n",
            "Requirement already satisfied: rsa<5,>=3.1.4; python_version >= \"3\" in /usr/local/lib/python3.6/dist-packages (from google-auth<2,>=1.6.3->tensorboard<3,>=2.3.0->tensorflow==2.3.0) (4.6)\n",
            "Requirement already satisfied: pyasn1-modules>=0.2.1 in /usr/local/lib/python3.6/dist-packages (from google-auth<2,>=1.6.3->tensorboard<3,>=2.3.0->tensorflow==2.3.0) (0.2.8)\n",
            "Requirement already satisfied: importlib-metadata; python_version < \"3.8\" in /usr/local/lib/python3.6/dist-packages (from markdown>=2.6.8->tensorboard<3,>=2.3.0->tensorflow==2.3.0) (3.3.0)\n",
            "Requirement already satisfied: oauthlib>=3.0.0 in /usr/local/lib/python3.6/dist-packages (from requests-oauthlib>=0.7.0->google-auth-oauthlib<0.5,>=0.4.1->tensorboard<3,>=2.3.0->tensorflow==2.3.0) (3.1.0)\n",
            "Requirement already satisfied: pyasn1>=0.1.3 in /usr/local/lib/python3.6/dist-packages (from rsa<5,>=3.1.4; python_version >= \"3\"->google-auth<2,>=1.6.3->tensorboard<3,>=2.3.0->tensorflow==2.3.0) (0.4.8)\n",
            "Requirement already satisfied: zipp>=0.5 in /usr/local/lib/python3.6/dist-packages (from importlib-metadata; python_version < \"3.8\"->markdown>=2.6.8->tensorboard<3,>=2.3.0->tensorflow==2.3.0) (3.4.0)\n",
            "Requirement already satisfied: typing-extensions>=3.6.4; python_version < \"3.8\" in /usr/local/lib/python3.6/dist-packages (from importlib-metadata; python_version < \"3.8\"->markdown>=2.6.8->tensorboard<3,>=2.3.0->tensorflow==2.3.0) (3.7.4.3)\n",
            "\u001b[31mERROR: datascience 0.10.6 has requirement folium==0.2.1, but you'll have folium 0.8.3 which is incompatible.\u001b[0m\n",
            "\u001b[31mERROR: albumentations 0.1.12 has requirement imgaug<0.2.7,>=0.2.5, but you'll have imgaug 0.2.9 which is incompatible.\u001b[0m\n",
            "Installing collected packages: tensorflow-estimator, numpy, tensorflow\n",
            "  Found existing installation: tensorflow-estimator 2.4.0\n",
            "    Uninstalling tensorflow-estimator-2.4.0:\n",
            "      Successfully uninstalled tensorflow-estimator-2.4.0\n",
            "  Found existing installation: numpy 1.19.4\n",
            "    Uninstalling numpy-1.19.4:\n",
            "      Successfully uninstalled numpy-1.19.4\n",
            "  Found existing installation: tensorflow 2.4.0\n",
            "    Uninstalling tensorflow-2.4.0:\n",
            "      Successfully uninstalled tensorflow-2.4.0\n",
            "Successfully installed numpy-1.18.5 tensorflow-2.3.0 tensorflow-estimator-2.3.0\n"
          ],
          "name": "stdout"
        },
        {
          "output_type": "display_data",
          "data": {
            "application/vnd.colab-display-data+json": {
              "pip_warning": {
                "packages": [
                  "numpy",
                  "tensorflow"
                ]
              }
            }
          },
          "metadata": {
            "tags": []
          }
        }
      ]
    },
    {
      "cell_type": "code",
      "metadata": {
        "id": "fFPe1qc6oCM7"
      },
      "source": [
        "import tensorflow as tf\r\n",
        "from tensorflow.keras.layers import Layer\r\n",
        "from tensorflow.keras.layers import Conv2D\r\n",
        "from tensorflow.keras.layers import BatchNormalization\r\n",
        "from tensorflow.keras.layers import concatenate\r\n",
        "from tensorflow.keras import initializers\r\n",
        "import tensorflow.keras.backend as K\r\n",
        "\r\n",
        "\r\n",
        "def _conv_layer(filters, kernel_size, strides=(1, 1), padding='same', name=None):\r\n",
        "    return Conv2D(filters, kernel_size, strides=strides, padding=padding,\r\n",
        "                  use_bias=True, kernel_initializer='he_normal', name=name)\r\n",
        "\r\n",
        "\r\n",
        "def _normalize_depth_vars(depth_k, depth_v, filters):\r\n",
        "    \"\"\"\r\n",
        "    Accepts depth_k and depth_v as either floats or integers\r\n",
        "    and normalizes them to integers.\r\n",
        "    Args:\r\n",
        "        depth_k: float or int.\r\n",
        "        depth_v: float or int.\r\n",
        "        filters: number of output filters.\r\n",
        "    Returns:\r\n",
        "        depth_k, depth_v as integers.\r\n",
        "    \"\"\"\r\n",
        "\r\n",
        "    if type(depth_k) == float:\r\n",
        "        depth_k = int(filters * depth_k)\r\n",
        "    else:\r\n",
        "        depth_k = int(depth_k)\r\n",
        "\r\n",
        "    if type(depth_v) == float:\r\n",
        "        depth_v = int(filters * depth_v)\r\n",
        "    else:\r\n",
        "        depth_v = int(depth_v)\r\n",
        "\r\n",
        "    return depth_k, depth_v\r\n",
        "\r\n",
        "\r\n",
        "class AttentionAugmentation2D(Layer):\r\n",
        "\r\n",
        "    def __init__(self, depth_k, depth_v, num_heads, relative=True, **kwargs):\r\n",
        "        \"\"\"\r\n",
        "        Applies attention augmentation on a convolutional layer\r\n",
        "        output.\r\n",
        "        Args:\r\n",
        "            depth_k: float or int. Number of filters for k.\r\n",
        "            Computes the number of filters for `v`.\r\n",
        "            If passed as float, computed as `filters * depth_k`.\r\n",
        "        depth_v: float or int. Number of filters for v.\r\n",
        "            Computes the number of filters for `k`.\r\n",
        "            If passed as float, computed as `filters * depth_v`.\r\n",
        "        num_heads: int. Number of attention heads.\r\n",
        "            Must be set such that `depth_k // num_heads` is > 0.\r\n",
        "        relative: bool, whether to use relative encodings.\r\n",
        "        Raises:\r\n",
        "            ValueError: if depth_v or depth_k is not divisible by\r\n",
        "                num_heads.\r\n",
        "        Returns:\r\n",
        "            Output tensor of shape\r\n",
        "            -   [Batch, Height, Width, Depth_V] if\r\n",
        "                channels_last data format.\r\n",
        "            -   [Batch, Depth_V, Height, Width] if\r\n",
        "                channels_first data format.\r\n",
        "        \"\"\"\r\n",
        "        super(AttentionAugmentation2D, self).__init__(**kwargs)\r\n",
        "\r\n",
        "        if depth_k % num_heads != 0:\r\n",
        "            raise ValueError('`depth_k` (%d) is not divisible by `num_heads` (%d)' % (\r\n",
        "                depth_k, num_heads))\r\n",
        "\r\n",
        "        if depth_v % num_heads != 0:\r\n",
        "            raise ValueError('`depth_v` (%d) is not divisible by `num_heads` (%d)' % (\r\n",
        "                depth_v, num_heads))\r\n",
        "\r\n",
        "        if depth_k // num_heads < 1.:\r\n",
        "            raise ValueError('depth_k / num_heads cannot be less than 1 ! '\r\n",
        "                             'Given depth_k = %d, num_heads = %d' % (\r\n",
        "                             depth_k, num_heads))\r\n",
        "\r\n",
        "        if depth_v // num_heads < 1.:\r\n",
        "            raise ValueError('depth_v / num_heads cannot be less than 1 ! '\r\n",
        "                             'Given depth_v = %d, num_heads = %d' % (\r\n",
        "                                 depth_v, num_heads))\r\n",
        "\r\n",
        "        self.depth_k = depth_k\r\n",
        "        self.depth_v = depth_v\r\n",
        "        self.num_heads = num_heads\r\n",
        "        self.relative = relative\r\n",
        "\r\n",
        "        self.axis = 1 if K.image_data_format() == 'channels_first' else -1\r\n",
        "\r\n",
        "    def build(self, input_shape):\r\n",
        "        self._shape = input_shape\r\n",
        "\r\n",
        "        # normalize the format of depth_v and depth_k\r\n",
        "        self.depth_k, self.depth_v = _normalize_depth_vars(self.depth_k, self.depth_v,\r\n",
        "                                                           input_shape)\r\n",
        "\r\n",
        "        if self.axis == 1:\r\n",
        "            _, channels, height, width = input_shape\r\n",
        "        else:\r\n",
        "            _, height, width, channels = input_shape\r\n",
        "\r\n",
        "        if self.relative:\r\n",
        "            dk_per_head = self.depth_k // self.num_heads\r\n",
        "\r\n",
        "            if dk_per_head == 0:\r\n",
        "                print('dk per head', dk_per_head)\r\n",
        "\r\n",
        "            self.key_relative_w = self.add_weight('key_rel_w',\r\n",
        "                                                  shape=[2 * width - 1, dk_per_head],\r\n",
        "                                                  initializer=initializers.RandomNormal(\r\n",
        "                                                      stddev=dk_per_head ** -0.5))\r\n",
        "\r\n",
        "            self.key_relative_h = self.add_weight('key_rel_h',\r\n",
        "                                                  shape=[2 * height - 1, dk_per_head],\r\n",
        "                                                  initializer=initializers.RandomNormal(\r\n",
        "                                                      stddev=dk_per_head ** -0.5))\r\n",
        "\r\n",
        "        else:\r\n",
        "            self.key_relative_w = None\r\n",
        "            self.key_relative_h = None\r\n",
        "\r\n",
        "    def call(self, inputs, **kwargs):\r\n",
        "        if self.axis == 1:\r\n",
        "            # If channels first, force it to be channels last for these ops\r\n",
        "            inputs = K.permute_dimensions(inputs, [0, 2, 3, 1])\r\n",
        "\r\n",
        "        q, k, v = tf.split(inputs, [self.depth_k, self.depth_k, self.depth_v], axis=-1)\r\n",
        "\r\n",
        "        q = self.split_heads_2d(q)\r\n",
        "        k = self.split_heads_2d(k)\r\n",
        "        v = self.split_heads_2d(v)\r\n",
        "\r\n",
        "        # scale query\r\n",
        "        depth_k_heads = self.depth_k / self.num_heads\r\n",
        "        q *= (depth_k_heads ** -0.5)\r\n",
        "\r\n",
        "        # [Batch, num_heads, height * width, depth_k or depth_v] if axis == -1\r\n",
        "        qk_shape = [self._batch, self.num_heads, self._height * self._width, self.depth_k // self.num_heads]\r\n",
        "        v_shape = [self._batch, self.num_heads, self._height * self._width, self.depth_v // self.num_heads]\r\n",
        "        flat_q = K.reshape(q, K.stack(qk_shape))\r\n",
        "        flat_k = K.reshape(k, K.stack(qk_shape))\r\n",
        "        flat_v = K.reshape(v, K.stack(v_shape))\r\n",
        "\r\n",
        "        # [Batch, num_heads, HW, HW]\r\n",
        "        logits = tf.matmul(flat_q, flat_k, transpose_b=True)\r\n",
        "\r\n",
        "        # Apply relative encodings\r\n",
        "        if self.relative:\r\n",
        "            h_rel_logits, w_rel_logits = self.relative_logits(q)\r\n",
        "            logits += h_rel_logits\r\n",
        "            logits += w_rel_logits\r\n",
        "\r\n",
        "        weights = K.softmax(logits, axis=-1)\r\n",
        "        attn_out = tf.matmul(weights, flat_v)\r\n",
        "\r\n",
        "        attn_out_shape = [self._batch, self.num_heads, self._height, self._width, self.depth_v // self.num_heads]\r\n",
        "        attn_out_shape = K.stack(attn_out_shape)\r\n",
        "        attn_out = K.reshape(attn_out, attn_out_shape)\r\n",
        "        attn_out = self.combine_heads_2d(attn_out)\r\n",
        "        # [batch, height, width, depth_v]\r\n",
        "\r\n",
        "        if self.axis == 1:\r\n",
        "            # return to [batch, depth_v, height, width] for channels first\r\n",
        "            attn_out = K.permute_dimensions(attn_out, [0, 3, 1, 2])\r\n",
        "\r\n",
        "        attn_out.set_shape(self.compute_output_shape(self._shape))\r\n",
        "\r\n",
        "        return attn_out\r\n",
        "\r\n",
        "    def compute_output_shape(self, input_shape):\r\n",
        "        output_shape = list(input_shape)\r\n",
        "        output_shape[self.axis] = self.depth_v\r\n",
        "        return tuple(output_shape)\r\n",
        "\r\n",
        "    def split_heads_2d(self, ip):\r\n",
        "        tensor_shape = K.shape(ip)\r\n",
        "\r\n",
        "        # batch, height, width, channels for axis = -1\r\n",
        "        tensor_shape = [tensor_shape[i] for i in range(len(self._shape))]\r\n",
        "\r\n",
        "        batch = tensor_shape[0]\r\n",
        "        height = tensor_shape[1]\r\n",
        "        width = tensor_shape[2]\r\n",
        "        channels = tensor_shape[3]\r\n",
        "\r\n",
        "        # Save the spatial tensor dimensions\r\n",
        "        self._batch = batch\r\n",
        "        self._height = height\r\n",
        "        self._width = width\r\n",
        "\r\n",
        "        ret_shape = K.stack([batch, height, width,  self.num_heads, channels // self.num_heads])\r\n",
        "        split = K.reshape(ip, ret_shape)\r\n",
        "        transpose_axes = (0, 3, 1, 2, 4)\r\n",
        "        split = K.permute_dimensions(split, transpose_axes)\r\n",
        "\r\n",
        "        return split\r\n",
        "\r\n",
        "    def relative_logits(self, q):\r\n",
        "        shape = K.shape(q)\r\n",
        "        # [batch, num_heads, H, W, depth_v]\r\n",
        "        shape = [shape[i] for i in range(5)]\r\n",
        "\r\n",
        "        height = shape[2]\r\n",
        "        width = shape[3]\r\n",
        "\r\n",
        "        rel_logits_w = self.relative_logits_1d(q, self.key_relative_w, height, width,\r\n",
        "                                               transpose_mask=[0, 1, 2, 4, 3, 5])\r\n",
        "\r\n",
        "        rel_logits_h = self.relative_logits_1d(\r\n",
        "            K.permute_dimensions(q, [0, 1, 3, 2, 4]),\r\n",
        "            self.key_relative_h, width, height,\r\n",
        "            transpose_mask=[0, 1, 4, 2, 5, 3])\r\n",
        "\r\n",
        "        return rel_logits_h, rel_logits_w\r\n",
        "\r\n",
        "    def relative_logits_1d(self, q, rel_k, H, W, transpose_mask):\r\n",
        "        rel_logits = tf.einsum('bhxyd,md->bhxym', q, rel_k)\r\n",
        "        rel_logits = K.reshape(rel_logits, [-1, self.num_heads * H, W, 2 * W - 1])\r\n",
        "        rel_logits = self.rel_to_abs(rel_logits)\r\n",
        "        rel_logits = K.reshape(rel_logits, [-1, self.num_heads, H, W, W])\r\n",
        "        rel_logits = K.expand_dims(rel_logits, axis=3)\r\n",
        "        rel_logits = K.tile(rel_logits, [1, 1, 1, H, 1, 1])\r\n",
        "        rel_logits = K.permute_dimensions(rel_logits, transpose_mask)\r\n",
        "        rel_logits = K.reshape(rel_logits, [-1, self.num_heads, H * W, H * W])\r\n",
        "        return rel_logits\r\n",
        "\r\n",
        "    def rel_to_abs(self, x):\r\n",
        "        shape = K.shape(x)\r\n",
        "        shape = [shape[i] for i in range(3)]\r\n",
        "        B, Nh, L, = shape\r\n",
        "        col_pad = K.zeros(K.stack([B, Nh, L, 1]))\r\n",
        "        x = K.concatenate([x, col_pad], axis=3)\r\n",
        "        flat_x = K.reshape(x, [B, Nh, L * 2 * L])\r\n",
        "        flat_pad = K.zeros(K.stack([B, Nh, L - 1]))\r\n",
        "        flat_x_padded = K.concatenate([flat_x, flat_pad], axis=2)\r\n",
        "        final_x = K.reshape(flat_x_padded, [B, Nh, L + 1, 2 * L - 1])\r\n",
        "        final_x = final_x[:, :, :L, L - 1:]\r\n",
        "        return final_x\r\n",
        "\r\n",
        "    def combine_heads_2d(self, inputs):\r\n",
        "        # [batch, num_heads, height, width, depth_v // num_heads]\r\n",
        "        transposed = K.permute_dimensions(inputs, [0, 2, 3, 1, 4])\r\n",
        "        # [batch, height, width, num_heads, depth_v // num_heads]\r\n",
        "        shape = K.shape(transposed)\r\n",
        "        shape = [shape[i] for i in range(5)]\r\n",
        "\r\n",
        "        a, b = shape[-2:]\r\n",
        "        ret_shape = K.stack(shape[:-2] + [a * b])\r\n",
        "        # [batch, height, width, depth_v]\r\n",
        "        return K.reshape(transposed, ret_shape)\r\n",
        "\r\n",
        "    def get_config(self):\r\n",
        "        config = {\r\n",
        "            'depth_k': self.depth_k,\r\n",
        "            'depth_v': self.depth_v,\r\n",
        "            'num_heads': self.num_heads,\r\n",
        "            'relative': self.relative,\r\n",
        "        }\r\n",
        "        base_config = super(AttentionAugmentation2D, self).get_config()\r\n",
        "        return dict(list(base_config.items()) + list(config.items()))\r\n",
        "\r\n",
        "\r\n",
        "def augmented_conv2d(ip, filters, kernel_size=(3, 3), strides=(1, 1),\r\n",
        "                     depth_k=0.2, depth_v=0.2, num_heads=8, relative_encodings=True):\r\n",
        "    \"\"\"\r\n",
        "    Builds an Attention Augmented Convolution block.\r\n",
        "    Args:\r\n",
        "        ip: keras tensor.\r\n",
        "        filters: number of output filters.\r\n",
        "        kernel_size: convolution kernel size.\r\n",
        "        strides: strides of the convolution.\r\n",
        "        depth_k: float or int. Number of filters for k.\r\n",
        "            Computes the number of filters for `v`.\r\n",
        "            If passed as float, computed as `filters * depth_k`.\r\n",
        "        depth_v: float or int. Number of filters for v.\r\n",
        "            Computes the number of filters for `k`.\r\n",
        "            If passed as float, computed as `filters * depth_v`.\r\n",
        "        num_heads: int. Number of attention heads.\r\n",
        "            Must be set such that `depth_k // num_heads` is > 0.\r\n",
        "        relative_encodings: bool. Whether to use relative\r\n",
        "            encodings or not.\r\n",
        "    Returns:\r\n",
        "        a keras tensor.\r\n",
        "    \"\"\"\r\n",
        "    # input_shape = K.int_shape(ip)\r\n",
        "    channel_axis = 1 if K.image_data_format() == 'channels_first' else -1\r\n",
        "\r\n",
        "    depth_k, depth_v = _normalize_depth_vars(depth_k, depth_v, filters)\r\n",
        "\r\n",
        "    conv_out = _conv_layer(filters - depth_v, kernel_size, strides)(ip)\r\n",
        "\r\n",
        "    # Augmented Attention Block\r\n",
        "    qkv_conv = _conv_layer(2 * depth_k + depth_v, (1, 1), strides)(ip)\r\n",
        "    attn_out = AttentionAugmentation2D(depth_k, depth_v, num_heads, relative_encodings)(qkv_conv)\r\n",
        "    attn_out = _conv_layer(depth_v, kernel_size=(1, 1))(attn_out)\r\n",
        "\r\n",
        "    output = concatenate([conv_out, attn_out], axis=channel_axis)\r\n",
        "    output = BatchNormalization()(output)\r\n",
        "    return output\r\n"
      ],
      "execution_count": 1,
      "outputs": []
    },
    {
      "cell_type": "code",
      "metadata": {
        "colab": {
          "base_uri": "https://localhost:8080/"
        },
        "id": "HgenVXWvvxIh",
        "outputId": "bc6b66f7-67b8-4b43-a6ae-6cd2ccefb78d"
      },
      "source": [
        "%tensorflow_version 2.x\r\n",
        "print(\"Tensorflow version \" + tf.__version__)\r\n",
        "\r\n",
        "try:\r\n",
        "  tpu = tf.distribute.cluster_resolver.TPUClusterResolver()  # TPU detection\r\n",
        "  print('Running on TPU ', tpu.cluster_spec().as_dict()['worker'])\r\n",
        "except ValueError:\r\n",
        "  raise BaseException('ERROR: Not connected to a TPU runtime; please see the previous cell in this notebook for instructions!')\r\n",
        "\r\n",
        "tf.config.experimental_connect_to_cluster(tpu)\r\n",
        "tf.tpu.experimental.initialize_tpu_system(tpu)\r\n",
        "tpu_strategy = tf.distribute.experimental.TPUStrategy(tpu)"
      ],
      "execution_count": 2,
      "outputs": [
        {
          "output_type": "stream",
          "text": [
            "Tensorflow version 2.3.0\n",
            "Running on TPU  ['10.28.203.58:8470']\n",
            "INFO:tensorflow:Initializing the TPU system: grpc://10.28.203.58:8470\n"
          ],
          "name": "stdout"
        },
        {
          "output_type": "stream",
          "text": [
            "INFO:tensorflow:Initializing the TPU system: grpc://10.28.203.58:8470\n"
          ],
          "name": "stderr"
        },
        {
          "output_type": "stream",
          "text": [
            "INFO:tensorflow:Clearing out eager caches\n"
          ],
          "name": "stdout"
        },
        {
          "output_type": "stream",
          "text": [
            "INFO:tensorflow:Clearing out eager caches\n"
          ],
          "name": "stderr"
        },
        {
          "output_type": "stream",
          "text": [
            "INFO:tensorflow:Finished initializing TPU system.\n"
          ],
          "name": "stdout"
        },
        {
          "output_type": "stream",
          "text": [
            "INFO:tensorflow:Finished initializing TPU system.\n",
            "WARNING:absl:`tf.distribute.experimental.TPUStrategy` is deprecated, please use  the non experimental symbol `tf.distribute.TPUStrategy` instead.\n"
          ],
          "name": "stderr"
        },
        {
          "output_type": "stream",
          "text": [
            "INFO:tensorflow:Found TPU system:\n"
          ],
          "name": "stdout"
        },
        {
          "output_type": "stream",
          "text": [
            "INFO:tensorflow:Found TPU system:\n"
          ],
          "name": "stderr"
        },
        {
          "output_type": "stream",
          "text": [
            "INFO:tensorflow:*** Num TPU Cores: 8\n"
          ],
          "name": "stdout"
        },
        {
          "output_type": "stream",
          "text": [
            "INFO:tensorflow:*** Num TPU Cores: 8\n"
          ],
          "name": "stderr"
        },
        {
          "output_type": "stream",
          "text": [
            "INFO:tensorflow:*** Num TPU Workers: 1\n"
          ],
          "name": "stdout"
        },
        {
          "output_type": "stream",
          "text": [
            "INFO:tensorflow:*** Num TPU Workers: 1\n"
          ],
          "name": "stderr"
        },
        {
          "output_type": "stream",
          "text": [
            "INFO:tensorflow:*** Num TPU Cores Per Worker: 8\n"
          ],
          "name": "stdout"
        },
        {
          "output_type": "stream",
          "text": [
            "INFO:tensorflow:*** Num TPU Cores Per Worker: 8\n"
          ],
          "name": "stderr"
        },
        {
          "output_type": "stream",
          "text": [
            "INFO:tensorflow:*** Available Device: _DeviceAttributes(/job:localhost/replica:0/task:0/device:CPU:0, CPU, 0, 0)\n"
          ],
          "name": "stdout"
        },
        {
          "output_type": "stream",
          "text": [
            "INFO:tensorflow:*** Available Device: _DeviceAttributes(/job:localhost/replica:0/task:0/device:CPU:0, CPU, 0, 0)\n"
          ],
          "name": "stderr"
        },
        {
          "output_type": "stream",
          "text": [
            "INFO:tensorflow:*** Available Device: _DeviceAttributes(/job:localhost/replica:0/task:0/device:XLA_CPU:0, XLA_CPU, 0, 0)\n"
          ],
          "name": "stdout"
        },
        {
          "output_type": "stream",
          "text": [
            "INFO:tensorflow:*** Available Device: _DeviceAttributes(/job:localhost/replica:0/task:0/device:XLA_CPU:0, XLA_CPU, 0, 0)\n"
          ],
          "name": "stderr"
        },
        {
          "output_type": "stream",
          "text": [
            "INFO:tensorflow:*** Available Device: _DeviceAttributes(/job:worker/replica:0/task:0/device:CPU:0, CPU, 0, 0)\n"
          ],
          "name": "stdout"
        },
        {
          "output_type": "stream",
          "text": [
            "INFO:tensorflow:*** Available Device: _DeviceAttributes(/job:worker/replica:0/task:0/device:CPU:0, CPU, 0, 0)\n"
          ],
          "name": "stderr"
        },
        {
          "output_type": "stream",
          "text": [
            "INFO:tensorflow:*** Available Device: _DeviceAttributes(/job:worker/replica:0/task:0/device:TPU:0, TPU, 0, 0)\n"
          ],
          "name": "stdout"
        },
        {
          "output_type": "stream",
          "text": [
            "INFO:tensorflow:*** Available Device: _DeviceAttributes(/job:worker/replica:0/task:0/device:TPU:0, TPU, 0, 0)\n"
          ],
          "name": "stderr"
        },
        {
          "output_type": "stream",
          "text": [
            "INFO:tensorflow:*** Available Device: _DeviceAttributes(/job:worker/replica:0/task:0/device:TPU:1, TPU, 0, 0)\n"
          ],
          "name": "stdout"
        },
        {
          "output_type": "stream",
          "text": [
            "INFO:tensorflow:*** Available Device: _DeviceAttributes(/job:worker/replica:0/task:0/device:TPU:1, TPU, 0, 0)\n"
          ],
          "name": "stderr"
        },
        {
          "output_type": "stream",
          "text": [
            "INFO:tensorflow:*** Available Device: _DeviceAttributes(/job:worker/replica:0/task:0/device:TPU:2, TPU, 0, 0)\n"
          ],
          "name": "stdout"
        },
        {
          "output_type": "stream",
          "text": [
            "INFO:tensorflow:*** Available Device: _DeviceAttributes(/job:worker/replica:0/task:0/device:TPU:2, TPU, 0, 0)\n"
          ],
          "name": "stderr"
        },
        {
          "output_type": "stream",
          "text": [
            "INFO:tensorflow:*** Available Device: _DeviceAttributes(/job:worker/replica:0/task:0/device:TPU:3, TPU, 0, 0)\n"
          ],
          "name": "stdout"
        },
        {
          "output_type": "stream",
          "text": [
            "INFO:tensorflow:*** Available Device: _DeviceAttributes(/job:worker/replica:0/task:0/device:TPU:3, TPU, 0, 0)\n"
          ],
          "name": "stderr"
        },
        {
          "output_type": "stream",
          "text": [
            "INFO:tensorflow:*** Available Device: _DeviceAttributes(/job:worker/replica:0/task:0/device:TPU:4, TPU, 0, 0)\n"
          ],
          "name": "stdout"
        },
        {
          "output_type": "stream",
          "text": [
            "INFO:tensorflow:*** Available Device: _DeviceAttributes(/job:worker/replica:0/task:0/device:TPU:4, TPU, 0, 0)\n"
          ],
          "name": "stderr"
        },
        {
          "output_type": "stream",
          "text": [
            "INFO:tensorflow:*** Available Device: _DeviceAttributes(/job:worker/replica:0/task:0/device:TPU:5, TPU, 0, 0)\n"
          ],
          "name": "stdout"
        },
        {
          "output_type": "stream",
          "text": [
            "INFO:tensorflow:*** Available Device: _DeviceAttributes(/job:worker/replica:0/task:0/device:TPU:5, TPU, 0, 0)\n"
          ],
          "name": "stderr"
        },
        {
          "output_type": "stream",
          "text": [
            "INFO:tensorflow:*** Available Device: _DeviceAttributes(/job:worker/replica:0/task:0/device:TPU:6, TPU, 0, 0)\n"
          ],
          "name": "stdout"
        },
        {
          "output_type": "stream",
          "text": [
            "INFO:tensorflow:*** Available Device: _DeviceAttributes(/job:worker/replica:0/task:0/device:TPU:6, TPU, 0, 0)\n"
          ],
          "name": "stderr"
        },
        {
          "output_type": "stream",
          "text": [
            "INFO:tensorflow:*** Available Device: _DeviceAttributes(/job:worker/replica:0/task:0/device:TPU:7, TPU, 0, 0)\n"
          ],
          "name": "stdout"
        },
        {
          "output_type": "stream",
          "text": [
            "INFO:tensorflow:*** Available Device: _DeviceAttributes(/job:worker/replica:0/task:0/device:TPU:7, TPU, 0, 0)\n"
          ],
          "name": "stderr"
        },
        {
          "output_type": "stream",
          "text": [
            "INFO:tensorflow:*** Available Device: _DeviceAttributes(/job:worker/replica:0/task:0/device:TPU_SYSTEM:0, TPU_SYSTEM, 0, 0)\n"
          ],
          "name": "stdout"
        },
        {
          "output_type": "stream",
          "text": [
            "INFO:tensorflow:*** Available Device: _DeviceAttributes(/job:worker/replica:0/task:0/device:TPU_SYSTEM:0, TPU_SYSTEM, 0, 0)\n"
          ],
          "name": "stderr"
        },
        {
          "output_type": "stream",
          "text": [
            "INFO:tensorflow:*** Available Device: _DeviceAttributes(/job:worker/replica:0/task:0/device:XLA_CPU:0, XLA_CPU, 0, 0)\n"
          ],
          "name": "stdout"
        },
        {
          "output_type": "stream",
          "text": [
            "INFO:tensorflow:*** Available Device: _DeviceAttributes(/job:worker/replica:0/task:0/device:XLA_CPU:0, XLA_CPU, 0, 0)\n"
          ],
          "name": "stderr"
        }
      ]
    },
    {
      "cell_type": "code",
      "metadata": {
        "colab": {
          "base_uri": "https://localhost:8080/"
        },
        "id": "sbhPkw51oLOQ",
        "outputId": "180566fb-2df1-4d3b-ca73-6260f4c09629"
      },
      "source": [
        "if __name__ == '__main__':\r\n",
        "    from tensorflow.keras.layers import Input\r\n",
        "    from tensorflow.keras.models import Model\r\n",
        "    with tpu_strategy.scope(): \r\n",
        "      ip = Input(shape=(128, 128, 3))\r\n",
        "      x = augmented_conv2d(ip, filters=5, kernel_size=(11, 11),\r\n",
        "                          depth_k=0.4, depth_v=0.4,  # dk/v (0.2) * f_out (20) = 4\r\n",
        "                          num_heads=2, relative_encodings=True)\r\n",
        "\r\n",
        "      model = Model(ip, x)\r\n",
        "      model.summary()\r\n",
        "\r\n",
        "      # Check if attention builds properly\r\n",
        "      x = tf.zeros((8, 128, 128, 3))\r\n",
        "      y = model(x)\r\n",
        "      print(\"Attention Augmented Conv out shape : \", y.shape)"
      ],
      "execution_count": 5,
      "outputs": [
        {
          "output_type": "stream",
          "text": [
            "Model: \"functional_3\"\n",
            "__________________________________________________________________________________________________\n",
            "Layer (type)                    Output Shape         Param #     Connected to                     \n",
            "==================================================================================================\n",
            "input_2 (InputLayer)            [(None, 128, 128, 3) 0                                            \n",
            "__________________________________________________________________________________________________\n",
            "conv2d_4 (Conv2D)               (None, 128, 128, 6)  24          input_2[0][0]                    \n",
            "__________________________________________________________________________________________________\n",
            "attention_augmentation2d_1 (Att (None, 128, 128, 2)  510         conv2d_4[0][0]                   \n",
            "__________________________________________________________________________________________________\n",
            "conv2d_3 (Conv2D)               (None, 128, 128, 3)  1092        input_2[0][0]                    \n",
            "__________________________________________________________________________________________________\n",
            "conv2d_5 (Conv2D)               (None, 128, 128, 2)  6           attention_augmentation2d_1[0][0] \n",
            "__________________________________________________________________________________________________\n",
            "concatenate_1 (Concatenate)     (None, 128, 128, 5)  0           conv2d_3[0][0]                   \n",
            "                                                                 conv2d_5[0][0]                   \n",
            "__________________________________________________________________________________________________\n",
            "batch_normalization_1 (BatchNor (None, 128, 128, 5)  20          concatenate_1[0][0]              \n",
            "==================================================================================================\n",
            "Total params: 1,652\n",
            "Trainable params: 1,642\n",
            "Non-trainable params: 10\n",
            "__________________________________________________________________________________________________\n",
            "Attention Augmented Conv out shape :  (8, 128, 128, 5)\n"
          ],
          "name": "stdout"
        }
      ]
    },
    {
      "cell_type": "code",
      "metadata": {
        "colab": {
          "base_uri": "https://localhost:8080/",
          "height": 564
        },
        "id": "6TDwl3rrobKC",
        "outputId": "eb26c764-a88d-4ba4-e450-e0ca17755b1f"
      },
      "source": [
        "from tensorflow.keras.utils import plot_model\r\n",
        "plot_model(model)"
      ],
      "execution_count": 4,
      "outputs": [
        {
          "output_type": "execute_result",
          "data": {
            "image/png": "[encoded data removed]",
            "text/plain": [
              "<IPython.core.display.Image object>"
            ]
          },
          "metadata": {
            "tags": []
          },
          "execution_count": 4
        }
      ]
    },
    {
      "cell_type": "code",
      "metadata": {
        "id": "0-9OuAYktfCx"
      },
      "source": [
        ""
      ],
      "execution_count": null,
      "outputs": []
    }
  ]
}